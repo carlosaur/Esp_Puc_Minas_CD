{
  "nbformat": 4,
  "nbformat_minor": 0,
  "metadata": {
    "colab": {
      "name": "Notebook_Rais03_AED.ipynb",
      "provenance": [],
      "collapsed_sections": []
    },
    "kernelspec": {
      "display_name": "Python 3",
      "language": "python",
      "name": "python3"
    },
    "language_info": {
      "codemirror_mode": {
        "name": "ipython",
        "version": 3
      },
      "file_extension": ".py",
      "mimetype": "text/x-python",
      "name": "python",
      "nbconvert_exporter": "python",
      "pygments_lexer": "ipython3",
      "version": "3.6.4"
    },
    "widgets": {
      "application/vnd.jupyter.widget-state+json": {
        "70ca8809374e47718d2a350faa0f8901": {
          "model_module": "@jupyter-widgets/controls",
          "model_name": "HBoxModel",
          "state": {
            "_view_name": "HBoxView",
            "_dom_classes": [],
            "_model_name": "HBoxModel",
            "_view_module": "@jupyter-widgets/controls",
            "_model_module_version": "1.5.0",
            "_view_count": null,
            "_view_module_version": "1.5.0",
            "box_style": "",
            "layout": "IPY_MODEL_fb891b6170fd487199128e7aa6cd90d1",
            "_model_module": "@jupyter-widgets/controls",
            "children": [
              "IPY_MODEL_b681b3745c48456888c1acfc97b53d7d",
              "IPY_MODEL_4f1f1c23b39a41a3838c78a834852088",
              "IPY_MODEL_7731409f3a7546228c822dfdbb59d652"
            ]
          }
        },
        "fb891b6170fd487199128e7aa6cd90d1": {
          "model_module": "@jupyter-widgets/base",
          "model_name": "LayoutModel",
          "state": {
            "_view_name": "LayoutView",
            "grid_template_rows": null,
            "right": null,
            "justify_content": null,
            "_view_module": "@jupyter-widgets/base",
            "overflow": null,
            "_model_module_version": "1.2.0",
            "_view_count": null,
            "flex_flow": "row wrap",
            "width": "100%",
            "min_width": null,
            "border": null,
            "align_items": null,
            "bottom": null,
            "_model_module": "@jupyter-widgets/base",
            "top": null,
            "grid_column": null,
            "overflow_y": null,
            "overflow_x": null,
            "grid_auto_flow": null,
            "grid_area": null,
            "grid_template_columns": null,
            "flex": null,
            "_model_name": "LayoutModel",
            "justify_items": null,
            "grid_row": null,
            "max_height": null,
            "align_content": null,
            "visibility": null,
            "align_self": null,
            "height": null,
            "min_height": null,
            "padding": null,
            "grid_auto_rows": null,
            "grid_gap": null,
            "max_width": null,
            "order": null,
            "_view_module_version": "1.2.0",
            "grid_template_areas": null,
            "object_position": null,
            "object_fit": null,
            "grid_auto_columns": null,
            "margin": null,
            "display": "inline-flex",
            "left": null
          }
        },
        "b681b3745c48456888c1acfc97b53d7d": {
          "model_module": "@jupyter-widgets/controls",
          "model_name": "HTMLModel",
          "state": {
            "_view_name": "HTMLView",
            "style": "IPY_MODEL_ad6d9aee851d4f89bc28185afc16db43",
            "_dom_classes": [],
            "description": "",
            "_model_name": "HTMLModel",
            "placeholder": "​",
            "_view_module": "@jupyter-widgets/controls",
            "_model_module_version": "1.5.0",
            "value": "Done! Use &#x27;show&#x27; commands to display/save.   ",
            "_view_count": null,
            "_view_module_version": "1.5.0",
            "description_tooltip": null,
            "_model_module": "@jupyter-widgets/controls",
            "layout": "IPY_MODEL_cfdd9bda32cb442b832b502abb59f46a"
          }
        },
        "4f1f1c23b39a41a3838c78a834852088": {
          "model_module": "@jupyter-widgets/controls",
          "model_name": "FloatProgressModel",
          "state": {
            "_view_name": "ProgressView",
            "style": "IPY_MODEL_7d92d75964f042a38e23b2079eeda165",
            "_dom_classes": [],
            "description": "",
            "_model_name": "FloatProgressModel",
            "bar_style": "success",
            "max": 1,
            "_view_module": "@jupyter-widgets/controls",
            "_model_module_version": "1.5.0",
            "value": 1,
            "_view_count": null,
            "_view_module_version": "1.5.0",
            "orientation": "horizontal",
            "min": 0,
            "description_tooltip": null,
            "_model_module": "@jupyter-widgets/controls",
            "layout": "IPY_MODEL_f12524a23eaa4f058d0d2183a1ed1443"
          }
        },
        "7731409f3a7546228c822dfdbb59d652": {
          "model_module": "@jupyter-widgets/controls",
          "model_name": "HTMLModel",
          "state": {
            "_view_name": "HTMLView",
            "style": "IPY_MODEL_82746bb0340a47c9ae5751d90db0a847",
            "_dom_classes": [],
            "description": "",
            "_model_name": "HTMLModel",
            "placeholder": "​",
            "_view_module": "@jupyter-widgets/controls",
            "_model_module_version": "1.5.0",
            "value": " [100%]   00:00 -&gt; (00:00 left)",
            "_view_count": null,
            "_view_module_version": "1.5.0",
            "description_tooltip": null,
            "_model_module": "@jupyter-widgets/controls",
            "layout": "IPY_MODEL_5070fa954ed1412488d3e6dbf16ea795"
          }
        },
        "ad6d9aee851d4f89bc28185afc16db43": {
          "model_module": "@jupyter-widgets/controls",
          "model_name": "DescriptionStyleModel",
          "state": {
            "_view_name": "StyleView",
            "_model_name": "DescriptionStyleModel",
            "description_width": "",
            "_view_module": "@jupyter-widgets/base",
            "_model_module_version": "1.5.0",
            "_view_count": null,
            "_view_module_version": "1.2.0",
            "_model_module": "@jupyter-widgets/controls"
          }
        },
        "cfdd9bda32cb442b832b502abb59f46a": {
          "model_module": "@jupyter-widgets/base",
          "model_name": "LayoutModel",
          "state": {
            "_view_name": "LayoutView",
            "grid_template_rows": null,
            "right": null,
            "justify_content": null,
            "_view_module": "@jupyter-widgets/base",
            "overflow": null,
            "_model_module_version": "1.2.0",
            "_view_count": null,
            "flex_flow": null,
            "width": null,
            "min_width": null,
            "border": null,
            "align_items": null,
            "bottom": null,
            "_model_module": "@jupyter-widgets/base",
            "top": null,
            "grid_column": null,
            "overflow_y": null,
            "overflow_x": null,
            "grid_auto_flow": null,
            "grid_area": null,
            "grid_template_columns": null,
            "flex": null,
            "_model_name": "LayoutModel",
            "justify_items": null,
            "grid_row": null,
            "max_height": null,
            "align_content": null,
            "visibility": null,
            "align_self": null,
            "height": null,
            "min_height": null,
            "padding": null,
            "grid_auto_rows": null,
            "grid_gap": null,
            "max_width": null,
            "order": null,
            "_view_module_version": "1.2.0",
            "grid_template_areas": null,
            "object_position": null,
            "object_fit": null,
            "grid_auto_columns": null,
            "margin": null,
            "display": null,
            "left": null
          }
        },
        "7d92d75964f042a38e23b2079eeda165": {
          "model_module": "@jupyter-widgets/controls",
          "model_name": "ProgressStyleModel",
          "state": {
            "_view_name": "StyleView",
            "_model_name": "ProgressStyleModel",
            "description_width": "",
            "_view_module": "@jupyter-widgets/base",
            "_model_module_version": "1.5.0",
            "_view_count": null,
            "_view_module_version": "1.2.0",
            "bar_color": null,
            "_model_module": "@jupyter-widgets/controls"
          }
        },
        "f12524a23eaa4f058d0d2183a1ed1443": {
          "model_module": "@jupyter-widgets/base",
          "model_name": "LayoutModel",
          "state": {
            "_view_name": "LayoutView",
            "grid_template_rows": null,
            "right": null,
            "justify_content": null,
            "_view_module": "@jupyter-widgets/base",
            "overflow": null,
            "_model_module_version": "1.2.0",
            "_view_count": null,
            "flex_flow": null,
            "width": null,
            "min_width": null,
            "border": null,
            "align_items": null,
            "bottom": null,
            "_model_module": "@jupyter-widgets/base",
            "top": null,
            "grid_column": null,
            "overflow_y": null,
            "overflow_x": null,
            "grid_auto_flow": null,
            "grid_area": null,
            "grid_template_columns": null,
            "flex": "2",
            "_model_name": "LayoutModel",
            "justify_items": null,
            "grid_row": null,
            "max_height": null,
            "align_content": null,
            "visibility": null,
            "align_self": null,
            "height": null,
            "min_height": null,
            "padding": null,
            "grid_auto_rows": null,
            "grid_gap": null,
            "max_width": null,
            "order": null,
            "_view_module_version": "1.2.0",
            "grid_template_areas": null,
            "object_position": null,
            "object_fit": null,
            "grid_auto_columns": null,
            "margin": null,
            "display": null,
            "left": null
          }
        },
        "82746bb0340a47c9ae5751d90db0a847": {
          "model_module": "@jupyter-widgets/controls",
          "model_name": "DescriptionStyleModel",
          "state": {
            "_view_name": "StyleView",
            "_model_name": "DescriptionStyleModel",
            "description_width": "",
            "_view_module": "@jupyter-widgets/base",
            "_model_module_version": "1.5.0",
            "_view_count": null,
            "_view_module_version": "1.2.0",
            "_model_module": "@jupyter-widgets/controls"
          }
        },
        "5070fa954ed1412488d3e6dbf16ea795": {
          "model_module": "@jupyter-widgets/base",
          "model_name": "LayoutModel",
          "state": {
            "_view_name": "LayoutView",
            "grid_template_rows": null,
            "right": null,
            "justify_content": null,
            "_view_module": "@jupyter-widgets/base",
            "overflow": null,
            "_model_module_version": "1.2.0",
            "_view_count": null,
            "flex_flow": null,
            "width": null,
            "min_width": null,
            "border": null,
            "align_items": null,
            "bottom": null,
            "_model_module": "@jupyter-widgets/base",
            "top": null,
            "grid_column": null,
            "overflow_y": null,
            "overflow_x": null,
            "grid_auto_flow": null,
            "grid_area": null,
            "grid_template_columns": null,
            "flex": null,
            "_model_name": "LayoutModel",
            "justify_items": null,
            "grid_row": null,
            "max_height": null,
            "align_content": null,
            "visibility": null,
            "align_self": null,
            "height": null,
            "min_height": null,
            "padding": null,
            "grid_auto_rows": null,
            "grid_gap": null,
            "max_width": null,
            "order": null,
            "_view_module_version": "1.2.0",
            "grid_template_areas": null,
            "object_position": null,
            "object_fit": null,
            "grid_auto_columns": null,
            "margin": null,
            "display": null,
            "left": null
          }
        }
      }
    }
  },
  "cells": [
    {
      "cell_type": "markdown",
      "metadata": {
        "id": "tuzgBqMAC-Zq"
      },
      "source": [
        "# **PONTIFÍCIA UNIVERSIDADE CATÓLICA DE MINAS GERAIS - NÚCLEO DE EDUCAÇÃO A DISTÂNCIA**\n",
        "\n",
        "### Pós-graduação Lato Sensu em Ciência de Dados e Big Data\n"
      ]
    },
    {
      "cell_type": "markdown",
      "metadata": {
        "id": "kS8Bs5jVDjpp"
      },
      "source": [
        "### **3. Análise e Exploração dos dados**"
      ]
    },
    {
      "cell_type": "markdown",
      "metadata": {
        "id": "tM-T8AxGSk5M"
      },
      "source": [
        "**Carrega as bibliotecas**"
      ]
    },
    {
      "cell_type": "code",
      "metadata": {
        "id": "v9fU9we1ihMb"
      },
      "source": [
        "import numpy as np\n",
        "import pandas as pd\n",
        "import seaborn as sns\n",
        "import matplotlib.pyplot as plt\n",
        "from numpy import percentile\n",
        "import matplotlib\n",
        "\n",
        "# Scaling variables\n",
        "from sklearn.preprocessing import StandardScaler\n",
        "from sklearn.preprocessing import MinMaxScaler\n",
        "from sklearn.preprocessing import PowerTransformer\n",
        "\n",
        "np.set_printoptions(precision=4, suppress=True)  # Formatando impressão de Array Numpy\n",
        "pd.set_option('display.float_format', lambda x: '%.6f' % x)  # Formatando impressão de numeros no Pandas\n",
        "\n",
        "%matplotlib inline"
      ],
      "execution_count": null,
      "outputs": []
    },
    {
      "cell_type": "code",
      "metadata": {
        "id": "F30RAfMdP_Ov"
      },
      "source": [
        "!pip install sweetviz   ## Instalar a Biblioteca de Visualização de Dados Sweetviz"
      ],
      "execution_count": null,
      "outputs": []
    },
    {
      "cell_type": "code",
      "metadata": {
        "id": "kPDthlg5QORQ"
      },
      "source": [
        "import sweetviz as sv"
      ],
      "execution_count": null,
      "outputs": []
    },
    {
      "cell_type": "markdown",
      "metadata": {
        "id": "f-N9e3jlSx3I"
      },
      "source": [
        "**Carrega os dados**"
      ]
    },
    {
      "cell_type": "code",
      "metadata": {
        "id": "9MvFRbiVihMi"
      },
      "source": [
        "# Ao carregar a base já ajustada, manter os tipos das colunas conforme definição na etapa de Tratamento (Notebook_Rais02_Tratamento)\n",
        "df_rais2019CE = pd.read_csv('./BD_Rais_2019_CE_02.csv', dtype={ \"id_municipio\":                \"string\",\n",
        "                                                               \"qtde_vinculos_ativos\":        \"int64\",\n",
        "                                                               \"qtde_vinculos_clt\":          \"int64\",\n",
        "                                                               \"qtde_vinculos_estatutarios\": \"int64\",\n",
        "                                                               \"natureza_juridica\":           \"string\",\n",
        "                                                               \"tamanho_estabelecimento\":    \"int64\",\n",
        "                                                               \"indicador_cei_vinculado\":    \"int64\",\n",
        "                                                               \"indicador_pat\":              \"int64\",\n",
        "                                                               \"indicador_simples\":          \"int64\",\n",
        "                                                               \"indicador_rais_negativa\":    \"int64\",\n",
        "                                                               \"indicador_atividade_ano\":    \"int64\",\n",
        "                                                               \"cnae_2\":                     \"string\",\n",
        "                                                               \"cnae_2_subclasse\":           \"string\",\n",
        "                                                               \"subsetor_ibge\":              \"string\",\n",
        "                                                               \"cep_estabelecimento\":        \"string\"})\n"
      ],
      "execution_count": null,
      "outputs": []
    },
    {
      "cell_type": "markdown",
      "metadata": {
        "id": "QVdsufgRPpkR"
      },
      "source": [
        "**Fazer análise com a biblioteca SWEETVIZ**"
      ]
    },
    {
      "cell_type": "code",
      "metadata": {
        "colab": {
          "base_uri": "https://localhost:8080/",
          "height": 66,
          "referenced_widgets": [
            "70ca8809374e47718d2a350faa0f8901",
            "fb891b6170fd487199128e7aa6cd90d1",
            "b681b3745c48456888c1acfc97b53d7d",
            "4f1f1c23b39a41a3838c78a834852088",
            "7731409f3a7546228c822dfdbb59d652",
            "ad6d9aee851d4f89bc28185afc16db43",
            "cfdd9bda32cb442b832b502abb59f46a",
            "7d92d75964f042a38e23b2079eeda165",
            "f12524a23eaa4f058d0d2183a1ed1443",
            "82746bb0340a47c9ae5751d90db0a847",
            "5070fa954ed1412488d3e6dbf16ea795"
          ]
        },
        "id": "2o41Aw6UQUop",
        "outputId": "1de68403-b448-4afb-b3d2-0131a67cbf06"
      },
      "source": [
        "# Analizando o dataset\n",
        "rais_report = sv.analyze(df_rais2019CE)\n",
        "\n",
        "#Mostrando o Relatório\n",
        "rais_report.show_html('Rais.html')"
      ],
      "execution_count": null,
      "outputs": [
        {
          "output_type": "display_data",
          "data": {
            "application/vnd.jupyter.widget-view+json": {
              "model_id": "70ca8809374e47718d2a350faa0f8901",
              "version_minor": 0,
              "version_major": 2
            },
            "text/plain": [
              "                                             |          | [  0%]   00:00 -> (? left)"
            ]
          },
          "metadata": {
            "tags": []
          }
        },
        {
          "output_type": "stream",
          "text": [
            "Report Rais.html was generated! NOTEBOOK/COLAB USERS: the web browser MAY not pop up, regardless, the report IS saved in your notebook/colab files.\n"
          ],
          "name": "stdout"
        }
      ]
    },
    {
      "cell_type": "code",
      "metadata": {
        "id": "GSUFT7E5Rmq5"
      },
      "source": [
        "rais_report.show_notebook()"
      ],
      "execution_count": null,
      "outputs": []
    },
    {
      "cell_type": "code",
      "metadata": {
        "id": "bIjOYWMZtNSW"
      },
      "source": [
        "# Eliminar os registros com RAIS Negativa \n",
        "filtro = df_rais2019CE.loc[df_rais2019CE['indicador_rais_negativa'] == 1]  \n",
        "df_rais2019CE = df_rais2019CE.drop(filtro.index)\n",
        "\n",
        "# Os campos 'indicador_rais_negativa\" e \"indicador_atividade_ano\" tem valores constantes (0 e 1, respectivamente) \n",
        "# e, portanto, podem ser descartados\n",
        "df_rais2019CE = df_rais2019CE.drop(columns=['indicador_rais_negativa', 'indicador_atividade_ano'])\n",
        "\n",
        "display(df_rais2019CE.info())\n",
        "df_rais2019CE.shape"
      ],
      "execution_count": null,
      "outputs": []
    },
    {
      "cell_type": "code",
      "metadata": {
        "id": "UaiO-LiGoog0"
      },
      "source": [
        "# Removendo Colunas indicador_cei_vinculado e indicador_pat\n",
        "df_rais2019CE = df_rais2019CE.drop(columns=['indicador_cei_vinculado','indicador_pat'])\n",
        "display(df_rais2019CE.info())\n",
        "display(df_rais2019CE.shape)"
      ],
      "execution_count": null,
      "outputs": []
    },
    {
      "cell_type": "markdown",
      "metadata": {
        "id": "yk7gieVVSATN"
      },
      "source": [
        "### Realizar One-Hot-Encoding "
      ]
    },
    {
      "cell_type": "code",
      "metadata": {
        "id": "UnqMku1rSKhT"
      },
      "source": [
        "## Criar as colunas dummies a partir da coluna 'natureza juridica' agrupadas pelo 1ª digito\n",
        "dum_nat_jur = pd.get_dummies(df_rais2019CE['natureza_juridica'].str.slice(0,1), prefix='grupo_nj')\n",
        "\n",
        "## Acrescentar novas colunas ao Dataset\n",
        "df_rais2019CE = pd.concat([df_rais2019CE, dum_nat_jur], axis = 1)"
      ],
      "execution_count": null,
      "outputs": []
    },
    {
      "cell_type": "code",
      "metadata": {
        "id": "CEYUuoYdZs-N"
      },
      "source": [
        "df_CNAE = pd.read_csv('./BD_CNAE2.csv',dtype={ \"classe_id\": \"string\"})\n",
        "\n",
        "## Acrescentar a coluna 'cnae_2_secao' no dataset, baseada na coluna 'cnae_2'\n",
        "for linha, coluna in df_rais2019CE.iterrows(): \n",
        "    cnae_classe = coluna[\"cnae_2\"]\n",
        "    df_secao = df_CNAE.loc[df_CNAE['classe_id'] == cnae_classe]\n",
        "    secao = df_secao['secao_id'].unique()\n",
        "    df_rais2019CE.at[linha,'cnae_2_secao'] = secao[0]"
      ],
      "execution_count": null,
      "outputs": []
    },
    {
      "cell_type": "code",
      "metadata": {
        "id": "C82fBjMhW7Rp"
      },
      "source": [
        "## Criar as colunas dummies a partir da coluna 'CNAE_2' agrupadas por Seçao da CNAE\n",
        "dum_cnae = pd.get_dummies(df_rais2019CE['cnae_2_secao'], prefix='cnae_2_secao')\n",
        "\n",
        "## Acrescentar novas colunas ao Dataset\n",
        "df_rais2019CE = pd.concat([df_rais2019CE, dum_cnae], axis = 1)"
      ],
      "execution_count": null,
      "outputs": []
    },
    {
      "cell_type": "code",
      "metadata": {
        "id": "pNBEh8q_o0Pg"
      },
      "source": [
        "## Criar as colunas dummies a partir da coluna 'subsetor_ibge' \n",
        "dum_ibge = pd.get_dummies(df_rais2019CE['subsetor_ibge'], prefix='sub_ibge')\n",
        "\n",
        "## Acrescentar novas colunas ao Dataset\n",
        "df_rais2019CE = pd.concat([df_rais2019CE, dum_ibge], axis = 1)"
      ],
      "execution_count": null,
      "outputs": []
    },
    {
      "cell_type": "code",
      "metadata": {
        "id": "uyh7z1kdpNzS"
      },
      "source": [
        "## Salvar o novo dataset após o tratamento realizado nesta etapa\n",
        "df_rais2019CE.to_csv('BD_Rais_2019_CE_03.csv', index=False)"
      ],
      "execution_count": null,
      "outputs": []
    },
    {
      "cell_type": "markdown",
      "metadata": {
        "id": "kEx52w2WXL-z"
      },
      "source": [
        "# **FIM DO NOTEBOOK 03 AED**"
      ]
    }
  ]
}