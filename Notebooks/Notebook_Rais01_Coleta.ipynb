{
  "nbformat": 4,
  "nbformat_minor": 0,
  "metadata": {
    "colab": {
      "name": "Notebook_Rais01_Coleta.ipynb",
      "provenance": [],
      "collapsed_sections": []
    },
    "kernelspec": {
      "name": "python3",
      "display_name": "Python 3"
    }
  },
  "cells": [
    {
      "cell_type": "markdown",
      "metadata": {
        "id": "frzd3pBwForO"
      },
      "source": [
        "## **PONTIFÍCIA UNIVERSIDADE CATÓLICA DE MINAS GERAIS - NÚCLEO DE EDUCAÇÃO A DISTÂNCIA**\n",
        "\n",
        "### Pós-graduação Lato Sensu em Ciência de Dados e Big Data\n",
        "\n"
      ]
    },
    {
      "cell_type": "markdown",
      "metadata": {
        "id": "gaUlCHciJ28i"
      },
      "source": [
        "# **1. Coleta dos dados**"
      ]
    },
    {
      "cell_type": "code",
      "metadata": {
        "id": "fPoCtiEQFpSV"
      },
      "source": [
        "!pip install basedosdados  ## Instalação da biblioteca de acesso à base"
      ],
      "execution_count": null,
      "outputs": []
    },
    {
      "cell_type": "code",
      "metadata": {
        "id": "FqzkDoWWgkUB"
      },
      "source": [
        "import numpy as np\n",
        "import pandas as pd\n",
        "import basedosdados as bd"
      ],
      "execution_count": null,
      "outputs": []
    },
    {
      "cell_type": "markdown",
      "metadata": {
        "id": "DM5KZ1Q8Iyqo"
      },
      "source": [
        "### **1.1. Relação Anual de Informações Sociais (RAIS)**"
      ]
    },
    {
      "cell_type": "markdown",
      "metadata": {
        "id": "eudpe-4YHoHd"
      },
      "source": [
        "\n",
        "\n",
        "**Para limitar a quantidade de registros, vamos selecionar apenas o ano de 2019 e as empresas do estado do Ceará**\n",
        "\n",
        "\n"
      ]
    },
    {
      "cell_type": "code",
      "metadata": {
        "id": "O6yebILTg8jz"
      },
      "source": [
        "sql_query = \"\"\"\n",
        "SELECT   * \n",
        "FROM `basedosdados.br_me_rais.microdados_estabelecimentos` \n",
        "WHERE ano = 2019 AND sigla_uf = 'CE'\n",
        "\"\"\"\n",
        "bd.download(savepath='BD_Rais_2019_CE.csv', query=sql_query, billing_project_id= 'tcc-rais', index=False)"
      ],
      "execution_count": null,
      "outputs": []
    },
    {
      "cell_type": "markdown",
      "metadata": {
        "id": "SdvsnmsLbw-z"
      },
      "source": [
        "### **1.2.Municípios do Estado do Ceará**"
      ]
    },
    {
      "cell_type": "code",
      "metadata": {
        "id": "FoKlWzPebvFh"
      },
      "source": [
        "sql_query = \"\"\"\n",
        "SELECT * FROM `basedosdados.br_bd_diretorios_brasil.municipio` \n",
        "WHERE sigla_uf = 'CE'\n",
        "\"\"\"\n",
        "bd.download(savepath='BD_Municipios_CE.csv', query=sql_query, billing_project_id= 'tcc-rais', index=False)"
      ],
      "execution_count": null,
      "outputs": []
    },
    {
      "cell_type": "code",
      "metadata": {
        "id": "6h887GGLdkn-"
      },
      "source": [
        "df_MunicipiosCE = pd.read_csv('./BD_Municipios_CE.csv')\n",
        "df_MunicipiosCE.info()"
      ],
      "execution_count": null,
      "outputs": []
    },
    {
      "cell_type": "markdown",
      "metadata": {
        "id": "ZcedHYS1JPdQ"
      },
      "source": [
        "### **1.3. Cadastro Nacional de Atividades Econômicas (CNAE)**"
      ]
    },
    {
      "cell_type": "code",
      "metadata": {
        "id": "0SOOePsY9gPU"
      },
      "source": [
        "from pandas.io.json import json_normalize\n",
        "import json"
      ],
      "execution_count": null,
      "outputs": []
    },
    {
      "cell_type": "code",
      "metadata": {
        "id": "XAZ1_n8DD-iD"
      },
      "source": [
        "# Obtendo dados via API \n",
        "df_cnae_subclasses = pd.read_json('https://servicodados.ibge.gov.br/api/v2/cnae/subclasses')\n",
        "\n",
        "# Normalizando arquivo\n",
        "cnae_subclasses = df_cnae_subclasses.to_dict(orient='records')\n",
        "df_CNAE = pd.json_normalize(cnae_subclasses, sep = '_')\n",
        "\n",
        "# Renomeando as colunas\n",
        "df_CNAE.rename(columns={'id': 'subclasse_id', 'descricao': 'subclasse_descricao', 'observacoes': 'subclasse_observacoes',\n",
        "                         'atividades': 'subclasse_atividades', 'classe_grupo_id': 'grupo_id', 'classe_grupo_descricao': 'grupo_descricao',\n",
        "                         'classe_grupo_divisao_id': 'divisao_id', 'classe_grupo_divisao_descricao': 'divisao_descricao',\n",
        "                         'classe_grupo_divisao_secao_id': 'secao_id', 'classe_grupo_divisao_secao_descricao': 'secao_descricao'}, inplace=True)\n",
        "# Ajustando Tipo da Coluna\n",
        "tipo_coluna = { \"subclasse_id\": \"string\"}\n",
        "df_CNAE = df_CNAE.astype(tipo_coluna)\n",
        "\n",
        "## colocando um \"0\" a esquerda  \n",
        "df_CNAE['subclasse_id'] = df_CNAE['subclasse_id'].str.zfill(7)\n",
        "\n",
        "df_CNAE.head()"
      ],
      "execution_count": null,
      "outputs": []
    },
    {
      "cell_type": "code",
      "metadata": {
        "id": "hZLX5PGOY3We"
      },
      "source": [
        "df_CNAE.to_csv('BD_CNAE2.csv', index=False)"
      ],
      "execution_count": null,
      "outputs": []
    },
    {
      "cell_type": "markdown",
      "metadata": {
        "id": "wr216_PDN7tc"
      },
      "source": [
        "### **1.4. Tabela de Natureza Jurídica**"
      ]
    },
    {
      "cell_type": "code",
      "metadata": {
        "id": "TokGGh-OOKYS"
      },
      "source": [
        "# Importação das bibliotecas a serem utilizadas\n",
        "import pandas as pd\n",
        "import requests\n",
        "import re\n",
        "from bs4 import BeautifulSoup"
      ],
      "execution_count": null,
      "outputs": []
    },
    {
      "cell_type": "code",
      "metadata": {
        "id": "srj8U1MAOtcl"
      },
      "source": [
        "# Acessar página Web\n",
        "req = requests.get('https://concla.ibge.gov.br/estrutura/natjur-estrutura/natureza-juridica-2018.html')\n",
        "if req.status_code == 200:\n",
        "    print('Requisição bem sucedida!')\n",
        "    content = req.content"
      ],
      "execution_count": null,
      "outputs": []
    },
    {
      "cell_type": "code",
      "metadata": {
        "id": "l1n1INy-O5zu"
      },
      "source": [
        "# Utilização da biblioteca BeautifulSoup para obtenção dos dados\n",
        "soup = BeautifulSoup(content, 'html.parser')\n",
        "tabela = soup.find_all(href=re.compile(\"2018\"))"
      ],
      "execution_count": null,
      "outputs": []
    },
    {
      "cell_type": "code",
      "metadata": {
        "id": "AKCL2qGDPXXH"
      },
      "source": [
        "## Extrair as informações da Lista obtida da página HTML e transformar em um dataframe\n",
        "\n",
        "nat_lista = [linha.text for linha in tabela]   ## Obtendo só o conteúdo em texto do retorno da extração realizada\n",
        "nat_lista = nat_lista[2:]                      ## Visualizando a lista, vemos que as duas primeiras linhas pode ser descartadas\n",
        "\n",
        "nat_cod = []\n",
        "nat_desc = []\n",
        "\n",
        "for i in range(0,len(nat_lista)):\n",
        "  nat_lista_partes = nat_lista[i].split(' ',2)\n",
        "  nat_cod.append(nat_lista_partes[0][0:3]+nat_lista_partes[0][4])\n",
        "  nat_desc.append(nat_lista_partes[2])\n",
        "\n",
        "df_Nat_juridica = pd.DataFrame(list(zip(nat_cod,nat_desc)), columns = ['cod_nat_juridica','desc_nat_juridica'])\n",
        "df_Nat_juridica.head()"
      ],
      "execution_count": null,
      "outputs": []
    },
    {
      "cell_type": "code",
      "metadata": {
        "id": "ylJzAyPtV5uU"
      },
      "source": [
        "# Salva o dataframe em um arquivo CSV\n",
        "df_Nat_juridica.to_csv('BD_Nat_Juridica.csv', index=False)"
      ],
      "execution_count": null,
      "outputs": []
    }
  ]
}