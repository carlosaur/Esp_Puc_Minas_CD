{
  "nbformat": 4,
  "nbformat_minor": 0,
  "metadata": {
    "colab": {
      "name": "Notebook_Rais02_Tratamento.ipynb",
      "provenance": []
    },
    "kernelspec": {
      "name": "python3",
      "display_name": "Python 3"
    },
    "language_info": {
      "name": "python"
    }
  },
  "cells": [
    {
      "cell_type": "markdown",
      "metadata": {
        "id": "4XhsSu_9MGVV"
      },
      "source": [
        "# **PONTIFÍCIA UNIVERSIDADE CATÓLICA DE MINAS GERAIS - NÚCLEO DE EDUCAÇÃO A DISTÂNCIA**\n",
        "\n",
        "### Pós-graduação Lato Sensu em Ciência de Dados e Big Data\n"
      ]
    },
    {
      "cell_type": "markdown",
      "metadata": {
        "id": "7lFn3AcSMO0c"
      },
      "source": [
        "### **2. Processamento/Tratamento dos dados**"
      ]
    },
    {
      "cell_type": "code",
      "metadata": {
        "id": "hV42CjifMDij"
      },
      "source": [
        "## Importação das Bibliotecas\n",
        "import numpy as np\n",
        "import pandas as pd\n",
        "import seaborn as sns\n",
        "import matplotlib.pyplot as plt\n",
        "%matplotlib inline"
      ],
      "execution_count": null,
      "outputs": []
    },
    {
      "cell_type": "markdown",
      "metadata": {
        "id": "_nvSr7qZNhJN"
      },
      "source": [
        "**Carregando a base**\n"
      ]
    },
    {
      "cell_type": "code",
      "metadata": {
        "id": "UwFzYD9vNpcM"
      },
      "source": [
        "df_rais2019CE = pd.read_csv('./BD_Rais_2019_CE.csv')\n",
        "df_rais2019CE.head()"
      ],
      "execution_count": null,
      "outputs": []
    },
    {
      "cell_type": "markdown",
      "metadata": {
        "id": "7DA3S9nCOZyR"
      },
      "source": [
        "**Verificando a quantidade de linhas/atributos e tipos atribuídos**"
      ]
    },
    {
      "cell_type": "code",
      "metadata": {
        "id": "lsVqf1DPOl_E"
      },
      "source": [
        "print('Dimensões da Base de Dados: {} linhas e {} colunas'.format(len(df_rais2019CE), len(df_rais2019CE.columns)),'\\n\\n')\n",
        "df_rais2019CE.info()"
      ],
      "execution_count": null,
      "outputs": []
    },
    {
      "cell_type": "code",
      "metadata": {
        "id": "5CrVUVLLoKyd"
      },
      "source": [
        "# Removendo Colunas desnecessárias\n",
        "df_rais2019CE = df_rais2019CE.drop(columns=['ano','sigla_uf','id_municipio_6','natureza_estabelecimento','tipo_estabelecimento',\n",
        "                                            'cnae_1','subatividade_ibge','bairros_sp','distritos_sp','bairros_fortaleza',\n",
        "                                            'bairros_rj','regioes_administrativas_df'])\n",
        "print('Dimensões da Base de Dados: {} linhas e {} colunas'.format(len(df_rais2019CE), len(df_rais2019CE.columns)),'\\n\\n')\n",
        "df_rais2019CE.info()"
      ],
      "execution_count": null,
      "outputs": []
    },
    {
      "cell_type": "code",
      "metadata": {
        "id": "Kq2VSKGOLiVL"
      },
      "source": [
        "# Ajustando Tipo da Coluna, conforme base original\n",
        "tipo_coluna = { \"id_municipio\": \"string\",\n",
        "                \"natureza_juridica\": \"string\",\n",
        "                \"cnae_2\": \"string\",\n",
        "                \"cnae_2_subclasse\": \"string\",\n",
        "                \"subsetor_ibge\": \"string\",\n",
        "                \"cep_estabelecimento\": \"string\"}\n",
        "df_rais2019CE = df_rais2019CE.astype(tipo_coluna)\n",
        "\n",
        "## as colunas \"cnae_2\", \"cnae_2_subclasse\" e \"subsetor_ibge\" precisam ser corrigidas colocando um \"0\" a esquerda nos respectivos códigos \n",
        "\n",
        "df_rais2019CE['cnae_2'] = df_rais2019CE['cnae_2'].str.rstrip('0')                 # Esta coluna era float64, por isso tem que tirar o \".0\" \n",
        "df_rais2019CE['cnae_2'] = df_rais2019CE['cnae_2'].str.rstrip('.').str.zfill(5)    # do final antes de preencher com zero a esquerda\n",
        "                                                                                  \n",
        "\n",
        "df_rais2019CE['cnae_2_subclasse'] = df_rais2019CE['cnae_2_subclasse'].str.zfill(7) \n",
        "df_rais2019CE['subsetor_ibge'] = df_rais2019CE['subsetor_ibge'].str.zfill(2) \n",
        "df_rais2019CE.dtypes"
      ],
      "execution_count": null,
      "outputs": []
    },
    {
      "cell_type": "code",
      "metadata": {
        "id": "d372H8W6X5wB"
      },
      "source": [
        "## Carregando os demais datasets\n",
        "df_cnae = pd.read_csv('./BD_CNAE2.csv')\n",
        "df_municipios = pd.read_csv('./BD_Municipios_CE.csv')\n",
        "df_natjur = pd.read_csv('./BD_Nat_Juridica.csv')"
      ],
      "execution_count": null,
      "outputs": []
    },
    {
      "cell_type": "code",
      "metadata": {
        "id": "b2Coo5yMsM4f"
      },
      "source": [
        "## Definindo função para verificar integridade de colunas\n",
        "\n",
        "def verifica_integridade(nome_coluna, nome_tabela, nome_coluna_tb):\n",
        " \n",
        "  lista = df_rais2019CE[nome_coluna].unique()\n",
        "  coluna_ok = True\n",
        "  \n",
        "  for codigo in lista:\n",
        "    p_lista = []\n",
        "    p_lista.append(codigo)\n",
        "    x = nome_tabela.loc[nome_tabela[nome_coluna_tb].isin(p_lista)]\n",
        "    if x.empty:\n",
        "      coluna_ok = False\n",
        "      print('Coluna: \"{}\" - Código {} não encontrado'.format(nome_coluna,codigo))\n",
        "  if coluna_ok:\n",
        "    print('Coluna: \"{}\" - todos valores válidos'.format(nome_coluna))"
      ],
      "execution_count": null,
      "outputs": []
    },
    {
      "cell_type": "code",
      "metadata": {
        "id": "_qXPjmdsYoCR"
      },
      "source": [
        "verifica_integridade('id_municipio', df_municipios, 'id_municipio')\n",
        "verifica_integridade('natureza_juridica', df_natjur, 'cod_nat_juridica')\n",
        "verifica_integridade('cnae_2', df_cnae, 'classe_id')\n",
        "verifica_integridade('cnae_2_subclasse', df_cnae, 'subclasse_id')"
      ],
      "execution_count": null,
      "outputs": []
    },
    {
      "cell_type": "code",
      "metadata": {
        "id": "Pvvv32g45uCF"
      },
      "source": [
        "print(df_rais2019CE.loc[df_rais2019CE['cnae_2'].isnull()])\n",
        "print(df_rais2019CE.loc[df_rais2019CE['cnae_2_subclasse'] == '9999999'])"
      ],
      "execution_count": null,
      "outputs": []
    },
    {
      "cell_type": "code",
      "metadata": {
        "id": "nah0FumR6Ctj"
      },
      "source": [
        "print(df_rais2019CE.iloc[13001])  ## Visualizando o registro"
      ],
      "execution_count": null,
      "outputs": []
    },
    {
      "cell_type": "code",
      "metadata": {
        "id": "4TvCQF7ejPU_"
      },
      "source": [
        "df_rais2019CE.drop(index=13001, inplace=True)   ## Excluindo o registro do dataset"
      ],
      "execution_count": null,
      "outputs": []
    },
    {
      "cell_type": "code",
      "metadata": {
        "id": "ll-mkSzI6bmH"
      },
      "source": [
        "## Verificação da coluna \"subsetor_ibge\"\n",
        "## Os valores de \"subsetor_ibge\" podem assumir os valores 01 a 25\n",
        "subsetor_ibge_cod = list(range(1,26))\n",
        "subsetor_ibge_cod = list(map(str, subsetor_ibge_cod))\n",
        "subsetor_ibge_cod = [cod.zfill(2) for cod in subsetor_ibge_cod]\n",
        "\n",
        "# As respectivas descrições\n",
        "subsetor_ibge_desc = ['Extrativa mineral','Indústria de produtos minerais nao metálicos','Indústria metalúrgica','Indústria mecânica','Indústria do material elétrico e de comunicaçoes',\n",
        "                      'Indústria do material de transporte','Indústria da madeira e do mobiliário','Indústria do papel, papelao, editorial e gráfica',\n",
        "                      'Ind. da borracha, fumo, couros, peles, similares, ind. diversas','Ind. química de produtos farmacêuticos, veterinários, perfumaria',\n",
        "                      'Indústria têxtil do vestuário e artefatos de tecidos','Indústria de calçados','Indústria de produtos alimentícios, bebidas e álcool etílico',\n",
        "                      'Serviços industriais de utilidade pública','Construçao civil','Comércio varejista','Comércio atacadista','Instituiçoes de crédito, seguros e capitalizaçao',\n",
        "                      'Com. e administraçao de imóveis, valores mobiliários, serv. Técnico','Transportes e comunicaçoes','Serv. de alojamento, alimentaçao, reparaçao, manutençao, redaçao',\n",
        "                      'Serviços médicos, odontológicos e veterinários','Ensino','Administraçao pública direta e autárquica','Agricultura, silvicultura, criaçao de animais, extrativismo vegetal']\n",
        "\n",
        "subsetor_ibge_dict = {'subsetor_cod': subsetor_ibge_cod, 'subsetor_descricao': subsetor_ibge_desc}\n",
        "\n",
        "## Vamos criar um Dataset Pandas para usar a mesma função \"vrifica_integridade\"\n",
        "df_subsetor_ibge = pd.DataFrame.from_dict(subsetor_ibge_dict) \n",
        "\n",
        "verifica_integridade('subsetor_ibge', df_subsetor_ibge, 'subsetor_cod')     # Verificando a coluna"
      ],
      "execution_count": null,
      "outputs": []
    },
    {
      "cell_type": "code",
      "metadata": {
        "id": "DOlULUuHF0EX"
      },
      "source": [
        "## Verificação da coluna \"tamanho_estabelecimento\" (valores de 1 a 10\n",
        "print(df_rais2019CE.loc[df_rais2019CE['tamanho_estabelecimento'] < 1].empty)   # Testa se não tem nenhum menor que 1\n",
        "print(df_rais2019CE.loc[df_rais2019CE['tamanho_estabelecimento'] > 10].empty)  # Testa se não tem nenhum maior que 10"
      ],
      "execution_count": null,
      "outputs": []
    },
    {
      "cell_type": "code",
      "metadata": {
        "id": "qMx4c6yZ0xO5"
      },
      "source": [
        "df_rais2019CE.describe()"
      ],
      "execution_count": null,
      "outputs": []
    },
    {
      "cell_type": "code",
      "metadata": {
        "id": "WaSZ2ewWAvR8"
      },
      "source": [
        "# Verificando Dados ausentes (missing data)\n",
        "df_rais2019CE.isnull().sum()"
      ],
      "execution_count": null,
      "outputs": []
    },
    {
      "cell_type": "code",
      "metadata": {
        "id": "4pkTZOXQFixW"
      },
      "source": [
        "## Salvando o Dataset RAIS após tratamento\n",
        "df_rais2019CE.to_csv('BD_Rais_2019_CE_02.csv', index=False)"
      ],
      "execution_count": null,
      "outputs": []
    }
  ]
}