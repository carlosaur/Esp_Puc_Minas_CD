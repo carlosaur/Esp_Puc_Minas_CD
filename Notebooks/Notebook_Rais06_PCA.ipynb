{
  "nbformat": 4,
  "nbformat_minor": 0,
  "metadata": {
    "colab": {
      "name": "Notebook_Rais06_PCA.ipynb",
      "provenance": [],
      "collapsed_sections": []
    },
    "kernelspec": {
      "name": "python3",
      "display_name": "Python 3"
    },
    "language_info": {
      "name": "python"
    }
  },
  "cells": [
    {
      "cell_type": "markdown",
      "metadata": {
        "id": "YzyeWUSCbuXY"
      },
      "source": [
        "# **PONTIFÍCIA UNIVERSIDADE CATÓLICA DE MINAS GERAIS - NÚCLEO DE EDUCAÇÃO A DISTÂNCIA**\n",
        "\n",
        "### Pós-graduação Lato Sensu em Ciência de Dados e Big Data\n"
      ]
    },
    {
      "cell_type": "markdown",
      "metadata": {
        "id": "wMz1lI1CcE9w"
      },
      "source": [
        "### **6. Pré-Processamento - Aplicação do PCA**"
      ]
    },
    {
      "cell_type": "markdown",
      "metadata": {
        "id": "tM-T8AxGSk5M"
      },
      "source": [
        "### Carrega as bibliotecas"
      ]
    },
    {
      "cell_type": "code",
      "metadata": {
        "id": "v9fU9we1ihMb"
      },
      "source": [
        "import numpy as np\n",
        "import pandas as pd\n",
        "import seaborn as sns\n",
        "import matplotlib.pyplot as plt\n",
        "%matplotlib inline"
      ],
      "execution_count": null,
      "outputs": []
    },
    {
      "cell_type": "code",
      "metadata": {
        "id": "RT6UMnzRHo2p"
      },
      "source": [
        "from sklearn.decomposition import PCA\n",
        "# Scaling variables\n",
        "from sklearn.preprocessing import StandardScaler\n",
        "from sklearn.preprocessing import MinMaxScaler\n",
        "from sklearn.preprocessing import PowerTransformer\n",
        "\n",
        "np.set_printoptions(precision=4, suppress=True)  # Formatando impressão de Array Numpy\n",
        "pd.set_option('display.float_format', lambda x: '%.6f' % x)  # Formatando impressão de numeros no Pandas"
      ],
      "execution_count": null,
      "outputs": []
    },
    {
      "cell_type": "markdown",
      "metadata": {
        "id": "f-N9e3jlSx3I"
      },
      "source": [
        "### Carrega os dados"
      ]
    },
    {
      "cell_type": "code",
      "metadata": {
        "id": "e2lXQvJwp-kQ"
      },
      "source": [
        "df_rais = pd.read_csv('/content/BD_Rais_2019_CE_03.csv')\n",
        "df_rais.info()"
      ],
      "execution_count": null,
      "outputs": []
    },
    {
      "cell_type": "code",
      "metadata": {
        "colab": {
          "base_uri": "https://localhost:8080/"
        },
        "id": "cZuhwGQT3eoD",
        "outputId": "b670213b-14ea-4271-f14e-403af934a7e6"
      },
      "source": [
        "## eliminando os campos que não serão utilizados no PCA\n",
        "df_rais = df_rais.drop(columns=['id_municipio','natureza_juridica','tamanho_estabelecimento','cnae_2','cnae_2_subclasse', 'subsetor_ibge',\n",
        "                                 'cep_estabelecimento', 'cnae_2_secao'])\n",
        "\n",
        "df_rais.info()"
      ],
      "execution_count": null,
      "outputs": [
        {
          "output_type": "stream",
          "text": [
            "<class 'pandas.core.frame.DataFrame'>\n",
            "RangeIndex: 94480 entries, 0 to 94479\n",
            "Data columns (total 55 columns):\n",
            " #   Column                      Non-Null Count  Dtype\n",
            "---  ------                      --------------  -----\n",
            " 0   qtde_vinculos_ativos        94480 non-null  int64\n",
            " 1   qtde_vinculos_clt           94480 non-null  int64\n",
            " 2   qtde_vinculos_estatutarios  94480 non-null  int64\n",
            " 3   indicador_simples           94480 non-null  int64\n",
            " 4   grupo_nj_1                  94480 non-null  int64\n",
            " 5   grupo_nj_2                  94480 non-null  int64\n",
            " 6   grupo_nj_3                  94480 non-null  int64\n",
            " 7   grupo_nj_4                  94480 non-null  int64\n",
            " 8   grupo_nj_5                  94480 non-null  int64\n",
            " 9   cnae_2_secao_A              94480 non-null  int64\n",
            " 10  cnae_2_secao_B              94480 non-null  int64\n",
            " 11  cnae_2_secao_C              94480 non-null  int64\n",
            " 12  cnae_2_secao_D              94480 non-null  int64\n",
            " 13  cnae_2_secao_E              94480 non-null  int64\n",
            " 14  cnae_2_secao_F              94480 non-null  int64\n",
            " 15  cnae_2_secao_G              94480 non-null  int64\n",
            " 16  cnae_2_secao_H              94480 non-null  int64\n",
            " 17  cnae_2_secao_I              94480 non-null  int64\n",
            " 18  cnae_2_secao_J              94480 non-null  int64\n",
            " 19  cnae_2_secao_K              94480 non-null  int64\n",
            " 20  cnae_2_secao_L              94480 non-null  int64\n",
            " 21  cnae_2_secao_M              94480 non-null  int64\n",
            " 22  cnae_2_secao_N              94480 non-null  int64\n",
            " 23  cnae_2_secao_O              94480 non-null  int64\n",
            " 24  cnae_2_secao_P              94480 non-null  int64\n",
            " 25  cnae_2_secao_Q              94480 non-null  int64\n",
            " 26  cnae_2_secao_R              94480 non-null  int64\n",
            " 27  cnae_2_secao_S              94480 non-null  int64\n",
            " 28  cnae_2_secao_T              94480 non-null  int64\n",
            " 29  cnae_2_secao_U              94480 non-null  int64\n",
            " 30  sub_ibge_01                 94480 non-null  int64\n",
            " 31  sub_ibge_02                 94480 non-null  int64\n",
            " 32  sub_ibge_03                 94480 non-null  int64\n",
            " 33  sub_ibge_04                 94480 non-null  int64\n",
            " 34  sub_ibge_05                 94480 non-null  int64\n",
            " 35  sub_ibge_06                 94480 non-null  int64\n",
            " 36  sub_ibge_07                 94480 non-null  int64\n",
            " 37  sub_ibge_08                 94480 non-null  int64\n",
            " 38  sub_ibge_09                 94480 non-null  int64\n",
            " 39  sub_ibge_10                 94480 non-null  int64\n",
            " 40  sub_ibge_11                 94480 non-null  int64\n",
            " 41  sub_ibge_12                 94480 non-null  int64\n",
            " 42  sub_ibge_13                 94480 non-null  int64\n",
            " 43  sub_ibge_14                 94480 non-null  int64\n",
            " 44  sub_ibge_15                 94480 non-null  int64\n",
            " 45  sub_ibge_16                 94480 non-null  int64\n",
            " 46  sub_ibge_17                 94480 non-null  int64\n",
            " 47  sub_ibge_18                 94480 non-null  int64\n",
            " 48  sub_ibge_19                 94480 non-null  int64\n",
            " 49  sub_ibge_20                 94480 non-null  int64\n",
            " 50  sub_ibge_21                 94480 non-null  int64\n",
            " 51  sub_ibge_22                 94480 non-null  int64\n",
            " 52  sub_ibge_23                 94480 non-null  int64\n",
            " 53  sub_ibge_24                 94480 non-null  int64\n",
            " 54  sub_ibge_25                 94480 non-null  int64\n",
            "dtypes: int64(55)\n",
            "memory usage: 39.6 MB\n"
          ],
          "name": "stdout"
        }
      ]
    },
    {
      "cell_type": "code",
      "metadata": {
        "id": "ZUjhofZh-Aux"
      },
      "source": [
        "## Realizando transformação antes do PCA\n",
        "df_rais[['qtde_vinculos_ativos']] = PowerTransformer().fit_transform(df_rais[['qtde_vinculos_ativos']])\n",
        "df_rais[['qtde_vinculos_clt']] = PowerTransformer().fit_transform(df_rais[['qtde_vinculos_clt']])\n",
        "df_rais[['qtde_vinculos_estatutarios']] = PowerTransformer().fit_transform(df_rais[['qtde_vinculos_estatutarios']])\n"
      ],
      "execution_count": null,
      "outputs": []
    },
    {
      "cell_type": "code",
      "metadata": {
        "colab": {
          "base_uri": "https://localhost:8080/"
        },
        "id": "AhH3-2tA_QBQ",
        "outputId": "14f4a079-254b-41b6-f65f-6cbb0e5782fa"
      },
      "source": [
        "pca = PCA(n_components=5)\n",
        "pca.fit(df_rais)"
      ],
      "execution_count": null,
      "outputs": [
        {
          "output_type": "execute_result",
          "data": {
            "text/plain": [
              "PCA(copy=True, iterated_power='auto', n_components=5, random_state=None,\n",
              "    svd_solver='auto', tol=0.0, whiten=False)"
            ]
          },
          "metadata": {
            "tags": []
          },
          "execution_count": 6
        }
      ]
    },
    {
      "cell_type": "code",
      "metadata": {
        "colab": {
          "base_uri": "https://localhost:8080/",
          "height": 153
        },
        "id": "20KDtJAiBuOB",
        "outputId": "fba72924-a746-42f7-c00b-f53536db3abd"
      },
      "source": [
        "pca2 = pca.transform(df_rais)\n",
        "display(pca2.shape)\n",
        "pca2"
      ],
      "execution_count": null,
      "outputs": [
        {
          "output_type": "display_data",
          "data": {
            "text/plain": [
              "(94480, 5)"
            ]
          },
          "metadata": {
            "tags": []
          }
        },
        {
          "output_type": "execute_result",
          "data": {
            "text/plain": [
              "array([[-0.2966,  0.023 ,  0.7415,  0.1834, -0.5089],\n",
              "       [-1.0171,  0.1591,  0.7786,  0.7019, -0.265 ],\n",
              "       [-1.0121,  0.1605,  1.0984,  1.0624,  0.7618],\n",
              "       ...,\n",
              "       [-1.0813,  0.0161,  0.6309, -0.6065, -0.1141],\n",
              "       [-1.0813,  0.0161,  0.6309, -0.6065, -0.1141],\n",
              "       [-1.0813,  0.0161,  0.6309, -0.6065, -0.1141]])"
            ]
          },
          "metadata": {
            "tags": []
          },
          "execution_count": 11
        }
      ]
    },
    {
      "cell_type": "code",
      "metadata": {
        "id": "cHhaTVLCElyH"
      },
      "source": [
        "colunas = df_rais.columns\n",
        "df_pca_components = pd.DataFrame(pca.components_.T,index=colunas)"
      ],
      "execution_count": null,
      "outputs": []
    },
    {
      "cell_type": "code",
      "metadata": {
        "colab": {
          "base_uri": "https://localhost:8080/"
        },
        "id": "bkz8gHwQF06j",
        "outputId": "56fd752e-cc08-4d0a-b986-56f3a292aa08"
      },
      "source": [
        "df_pca_0 = df_pca_components.drop(columns=[1,2,3,4])\n",
        "df_pca_1 = df_pca_components.drop(columns=[0,2,3,4])\n",
        "df_pca_2 = df_pca_components.drop(columns=[0,1,3,4])\n",
        "df_pca_3 = df_pca_components.drop(columns=[0,1,2,4])\n",
        "df_pca_4 = df_pca_components.drop(columns=[0,1,2,3])\n",
        "print(df_pca_0.sort_values(by=0, ascending=False, key=lambda col: col.abs()).head())\n",
        "print(df_pca_1.sort_values(by=1, ascending=False, key=lambda col: col.abs()).head())\n",
        "print(df_pca_2.sort_values(by=2, ascending=False, key=lambda col: col.abs()).head())\n",
        "print(df_pca_3.sort_values(by=3, ascending=False, key=lambda col: col.abs()).head())\n",
        "print(df_pca_4.sort_values(by=4, ascending=False, key=lambda col: col.abs()).head())"
      ],
      "execution_count": null,
      "outputs": [
        {
          "output_type": "stream",
          "text": [
            "                                   0\n",
            "qtde_vinculos_ativos        0.705983\n",
            "qtde_vinculos_clt           0.698246\n",
            "indicador_simples          -0.066233\n",
            "qtde_vinculos_estatutarios  0.062841\n",
            "sub_ibge_16                -0.050553\n",
            "                                   1\n",
            "qtde_vinculos_estatutarios  0.969794\n",
            "qtde_vinculos_clt          -0.157632\n",
            "grupo_nj_2                 -0.081644\n",
            "grupo_nj_1                  0.075113\n",
            "cnae_2_secao_O              0.070893\n",
            "                          2\n",
            "cnae_2_secao_G    -0.640698\n",
            "sub_ibge_16       -0.628093\n",
            "sub_ibge_19        0.199359\n",
            "indicador_simples -0.161572\n",
            "sub_ibge_21        0.151648\n",
            "                          3\n",
            "indicador_simples -0.812743\n",
            "grupo_nj_2        -0.250152\n",
            "grupo_nj_3         0.207792\n",
            "sub_ibge_19        0.198757\n",
            "sub_ibge_21       -0.192371\n",
            "                          4\n",
            "sub_ibge_19        0.590038\n",
            "cnae_2_secao_N     0.423343\n",
            "indicador_simples  0.417904\n",
            "grupo_nj_3         0.241880\n",
            "grupo_nj_2        -0.215397\n"
          ],
          "name": "stdout"
        }
      ]
    },
    {
      "cell_type": "code",
      "metadata": {
        "id": "68tAyNsptPNr"
      },
      "source": [
        "n_pca_comp = pca.n_components_\n",
        "df_pca_var_ratio = pd.DataFrame(pca.explained_variance_ratio_,columns=['variance_ratio'])\n",
        "df_pca_exp_var = pd.DataFrame(pca.explained_variance_,columns=['explained_variance'])\n",
        "df_pca_sgl_values = pd.DataFrame(pca.singular_values_,columns=['singular_values'])"
      ],
      "execution_count": null,
      "outputs": []
    },
    {
      "cell_type": "code",
      "metadata": {
        "colab": {
          "base_uri": "https://localhost:8080/",
          "height": 204
        },
        "id": "unLfbcQWjSFi",
        "outputId": "78e1f0ff-bfdb-40f1-e737-34dd61e11af6"
      },
      "source": [
        "df_pca_var_ratio.head(10)"
      ],
      "execution_count": null,
      "outputs": [
        {
          "output_type": "execute_result",
          "data": {
            "text/html": [
              "<div>\n",
              "<style scoped>\n",
              "    .dataframe tbody tr th:only-of-type {\n",
              "        vertical-align: middle;\n",
              "    }\n",
              "\n",
              "    .dataframe tbody tr th {\n",
              "        vertical-align: top;\n",
              "    }\n",
              "\n",
              "    .dataframe thead th {\n",
              "        text-align: right;\n",
              "    }\n",
              "</style>\n",
              "<table border=\"1\" class=\"dataframe\">\n",
              "  <thead>\n",
              "    <tr style=\"text-align: right;\">\n",
              "      <th></th>\n",
              "      <th>variance_ratio</th>\n",
              "    </tr>\n",
              "  </thead>\n",
              "  <tbody>\n",
              "    <tr>\n",
              "      <th>0</th>\n",
              "      <td>0.398421</td>\n",
              "    </tr>\n",
              "    <tr>\n",
              "      <th>1</th>\n",
              "      <td>0.210034</td>\n",
              "    </tr>\n",
              "    <tr>\n",
              "      <th>2</th>\n",
              "      <td>0.106728</td>\n",
              "    </tr>\n",
              "    <tr>\n",
              "      <th>3</th>\n",
              "      <td>0.051083</td>\n",
              "    </tr>\n",
              "    <tr>\n",
              "      <th>4</th>\n",
              "      <td>0.034821</td>\n",
              "    </tr>\n",
              "  </tbody>\n",
              "</table>\n",
              "</div>"
            ],
            "text/plain": [
              "   variance_ratio\n",
              "0        0.398421\n",
              "1        0.210034\n",
              "2        0.106728\n",
              "3        0.051083\n",
              "4        0.034821"
            ]
          },
          "metadata": {
            "tags": []
          },
          "execution_count": 14
        }
      ]
    },
    {
      "cell_type": "code",
      "metadata": {
        "colab": {
          "base_uri": "https://localhost:8080/",
          "height": 204
        },
        "id": "Teez54dMk61Q",
        "outputId": "48c5f5e3-7314-4377-ebe3-4e72d05e6d39"
      },
      "source": [
        "df_pca_exp_var.head(10)"
      ],
      "execution_count": null,
      "outputs": [
        {
          "output_type": "execute_result",
          "data": {
            "text/html": [
              "<div>\n",
              "<style scoped>\n",
              "    .dataframe tbody tr th:only-of-type {\n",
              "        vertical-align: middle;\n",
              "    }\n",
              "\n",
              "    .dataframe tbody tr th {\n",
              "        vertical-align: top;\n",
              "    }\n",
              "\n",
              "    .dataframe thead th {\n",
              "        text-align: right;\n",
              "    }\n",
              "</style>\n",
              "<table border=\"1\" class=\"dataframe\">\n",
              "  <thead>\n",
              "    <tr style=\"text-align: right;\">\n",
              "      <th></th>\n",
              "      <th>explained_variance</th>\n",
              "    </tr>\n",
              "  </thead>\n",
              "  <tbody>\n",
              "    <tr>\n",
              "      <th>0</th>\n",
              "      <td>1.989160</td>\n",
              "    </tr>\n",
              "    <tr>\n",
              "      <th>1</th>\n",
              "      <td>1.048618</td>\n",
              "    </tr>\n",
              "    <tr>\n",
              "      <th>2</th>\n",
              "      <td>0.532850</td>\n",
              "    </tr>\n",
              "    <tr>\n",
              "      <th>3</th>\n",
              "      <td>0.255039</td>\n",
              "    </tr>\n",
              "    <tr>\n",
              "      <th>4</th>\n",
              "      <td>0.173848</td>\n",
              "    </tr>\n",
              "  </tbody>\n",
              "</table>\n",
              "</div>"
            ],
            "text/plain": [
              "   explained_variance\n",
              "0            1.989160\n",
              "1            1.048618\n",
              "2            0.532850\n",
              "3            0.255039\n",
              "4            0.173848"
            ]
          },
          "metadata": {
            "tags": []
          },
          "execution_count": 15
        }
      ]
    },
    {
      "cell_type": "code",
      "metadata": {
        "colab": {
          "base_uri": "https://localhost:8080/",
          "height": 204
        },
        "id": "i2nb04wWk71v",
        "outputId": "a4109bc3-aed1-4809-f319-f7794566d691"
      },
      "source": [
        "df_pca_sgl_values.head(10)"
      ],
      "execution_count": null,
      "outputs": [
        {
          "output_type": "execute_result",
          "data": {
            "text/html": [
              "<div>\n",
              "<style scoped>\n",
              "    .dataframe tbody tr th:only-of-type {\n",
              "        vertical-align: middle;\n",
              "    }\n",
              "\n",
              "    .dataframe tbody tr th {\n",
              "        vertical-align: top;\n",
              "    }\n",
              "\n",
              "    .dataframe thead th {\n",
              "        text-align: right;\n",
              "    }\n",
              "</style>\n",
              "<table border=\"1\" class=\"dataframe\">\n",
              "  <thead>\n",
              "    <tr style=\"text-align: right;\">\n",
              "      <th></th>\n",
              "      <th>singular_values</th>\n",
              "    </tr>\n",
              "  </thead>\n",
              "  <tbody>\n",
              "    <tr>\n",
              "      <th>0</th>\n",
              "      <td>433.513382</td>\n",
              "    </tr>\n",
              "    <tr>\n",
              "      <th>1</th>\n",
              "      <td>314.757616</td>\n",
              "    </tr>\n",
              "    <tr>\n",
              "      <th>2</th>\n",
              "      <td>224.372779</td>\n",
              "    </tr>\n",
              "    <tr>\n",
              "      <th>3</th>\n",
              "      <td>155.228322</td>\n",
              "    </tr>\n",
              "    <tr>\n",
              "      <th>4</th>\n",
              "      <td>128.159861</td>\n",
              "    </tr>\n",
              "  </tbody>\n",
              "</table>\n",
              "</div>"
            ],
            "text/plain": [
              "   singular_values\n",
              "0       433.513382\n",
              "1       314.757616\n",
              "2       224.372779\n",
              "3       155.228322\n",
              "4       128.159861"
            ]
          },
          "metadata": {
            "tags": []
          },
          "execution_count": 16
        }
      ]
    },
    {
      "cell_type": "code",
      "metadata": {
        "colab": {
          "base_uri": "https://localhost:8080/"
        },
        "id": "PKcUGJMKo-m9",
        "outputId": "a05970a8-5d54-4a06-ed42-9ca8124f607f"
      },
      "source": [
        "pca.score_samples(df_rais)"
      ],
      "execution_count": null,
      "outputs": [
        {
          "output_type": "execute_result",
          "data": {
            "text/plain": [
              "array([ -5.055 , -42.9732, -25.6926, ...,  -2.7784,  -2.7784,  -2.7784])"
            ]
          },
          "metadata": {
            "tags": []
          },
          "execution_count": 11
        }
      ]
    },
    {
      "cell_type": "code",
      "metadata": {
        "colab": {
          "base_uri": "https://localhost:8080/"
        },
        "id": "Pfg9EvQMEECu",
        "outputId": "1d2a349f-1161-4dac-a904-9f8e47217457"
      },
      "source": [
        "lower_dimension_data = pca.fit_transform(df_rais)\n",
        "lower_dimension_data.shape"
      ],
      "execution_count": null,
      "outputs": [
        {
          "output_type": "execute_result",
          "data": {
            "text/plain": [
              "(94480, 5)"
            ]
          },
          "metadata": {
            "tags": []
          },
          "execution_count": 12
        }
      ]
    },
    {
      "cell_type": "code",
      "metadata": {
        "colab": {
          "base_uri": "https://localhost:8080/"
        },
        "id": "OyOyuy-vES1G",
        "outputId": "d2ba56d1-0d66-4f5d-dc56-8ad02c78994e"
      },
      "source": [
        "lower_dimension_data"
      ],
      "execution_count": null,
      "outputs": [
        {
          "output_type": "execute_result",
          "data": {
            "text/plain": [
              "array([[-0.2966,  0.023 ,  0.7415,  0.1834, -0.5089],\n",
              "       [-1.0171,  0.1591,  0.7786,  0.7019, -0.265 ],\n",
              "       [-1.0121,  0.1605,  1.0984,  1.0624,  0.7618],\n",
              "       ...,\n",
              "       [-1.0813,  0.0161,  0.6309, -0.6065, -0.1141],\n",
              "       [-1.0813,  0.0161,  0.6309, -0.6065, -0.1141],\n",
              "       [-1.0813,  0.0161,  0.6309, -0.6065, -0.1141]])"
            ]
          },
          "metadata": {
            "tags": []
          },
          "execution_count": 13
        }
      ]
    }
  ]
}